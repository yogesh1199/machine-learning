{
 "cells": [
  {
   "cell_type": "code",
   "execution_count": 1,
   "metadata": {},
   "outputs": [],
   "source": [
    "import pandas as pd\n",
    "import numpy as np\n",
    "import matplotlib.pyplot as plt\n",
    "from sklearn.model_selection import train_test_split\n",
    "from sklearn.preprocessing import StandardScaler\n",
    "from sklearn.svm import SVC\n",
    "from sklearn.metrics import confusion_matrix\n"
   ]
  },
  {
   "cell_type": "code",
   "execution_count": 2,
   "metadata": {},
   "outputs": [
    {
     "data": {
      "text/html": [
       "<div>\n",
       "<style scoped>\n",
       "    .dataframe tbody tr th:only-of-type {\n",
       "        vertical-align: middle;\n",
       "    }\n",
       "\n",
       "    .dataframe tbody tr th {\n",
       "        vertical-align: top;\n",
       "    }\n",
       "\n",
       "    .dataframe thead th {\n",
       "        text-align: right;\n",
       "    }\n",
       "</style>\n",
       "<table border=\"1\" class=\"dataframe\">\n",
       "  <thead>\n",
       "    <tr style=\"text-align: right;\">\n",
       "      <th></th>\n",
       "      <th>User ID</th>\n",
       "      <th>Gender</th>\n",
       "      <th>Age</th>\n",
       "      <th>EstimatedSalary</th>\n",
       "      <th>Purchased</th>\n",
       "    </tr>\n",
       "  </thead>\n",
       "  <tbody>\n",
       "    <tr>\n",
       "      <th>0</th>\n",
       "      <td>15624510</td>\n",
       "      <td>Male</td>\n",
       "      <td>19</td>\n",
       "      <td>19000</td>\n",
       "      <td>0</td>\n",
       "    </tr>\n",
       "    <tr>\n",
       "      <th>1</th>\n",
       "      <td>15810944</td>\n",
       "      <td>Male</td>\n",
       "      <td>35</td>\n",
       "      <td>20000</td>\n",
       "      <td>0</td>\n",
       "    </tr>\n",
       "    <tr>\n",
       "      <th>2</th>\n",
       "      <td>15668575</td>\n",
       "      <td>Female</td>\n",
       "      <td>26</td>\n",
       "      <td>43000</td>\n",
       "      <td>0</td>\n",
       "    </tr>\n",
       "    <tr>\n",
       "      <th>3</th>\n",
       "      <td>15603246</td>\n",
       "      <td>Female</td>\n",
       "      <td>27</td>\n",
       "      <td>57000</td>\n",
       "      <td>0</td>\n",
       "    </tr>\n",
       "    <tr>\n",
       "      <th>4</th>\n",
       "      <td>15804002</td>\n",
       "      <td>Male</td>\n",
       "      <td>19</td>\n",
       "      <td>76000</td>\n",
       "      <td>0</td>\n",
       "    </tr>\n",
       "  </tbody>\n",
       "</table>\n",
       "</div>"
      ],
      "text/plain": [
       "    User ID  Gender  Age  EstimatedSalary  Purchased\n",
       "0  15624510    Male   19            19000          0\n",
       "1  15810944    Male   35            20000          0\n",
       "2  15668575  Female   26            43000          0\n",
       "3  15603246  Female   27            57000          0\n",
       "4  15804002    Male   19            76000          0"
      ]
     },
     "execution_count": 2,
     "metadata": {},
     "output_type": "execute_result"
    }
   ],
   "source": [
    "data = pd.read_csv('ads.csv')\n",
    "data.head()"
   ]
  },
  {
   "cell_type": "code",
   "execution_count": 3,
   "metadata": {},
   "outputs": [],
   "source": [
    "inp = data.iloc[:,[2,3]].values\n",
    "out=data.iloc[:,4].values"
   ]
  },
  {
   "cell_type": "code",
   "execution_count": 4,
   "metadata": {},
   "outputs": [],
   "source": [
    "train_x,test_x,train_y,test_y=train_test_split(inp,out,test_size=0.25,random_state=0)"
   ]
  },
  {
   "cell_type": "code",
   "execution_count": 7,
   "metadata": {},
   "outputs": [
    {
     "data": {
      "text/plain": [
       "array([[-0.5475,  0.5131],\n",
       "       [ 0.1544, -0.6183],\n",
       "       [-0.1088,  0.1462],\n",
       "       [-0.5475,  0.2685],\n",
       "       [-0.1088, -0.6183],\n",
       "       [-0.8107, -1.5355],\n",
       "       [-0.4598, -1.6884],\n",
       "       [-0.0211,  2.2559],\n",
       "       [-1.6004, -0.0679],\n",
       "       [ 0.9441, -0.8323],\n",
       "       [-0.5475, -0.6488],\n",
       "       [-0.723 , -0.4654],\n",
       "       [ 0.0667, -0.4654],\n",
       "       [ 0.2422,  0.2073],\n",
       "       [-1.4249,  0.4825],\n",
       "       [-0.372 ,  1.4304],\n",
       "       [ 0.0667,  0.2073],\n",
       "       [-1.5126,  0.4519],\n",
       "       [ 1.646 ,  1.8279],\n",
       "       [-0.1088, -1.4744],\n",
       "       [-0.1088, -0.71  ],\n",
       "       [ 0.9441,  2.2559],\n",
       "       [ 0.4176, -0.5877],\n",
       "       [ 0.9441,  1.0634],\n",
       "       [-1.1617, -1.2909],\n",
       "       [ 1.1195,  2.1642],\n",
       "       [-0.723 ,  0.5131],\n",
       "       [-0.6352,  0.299 ],\n",
       "       [ 0.0667, -0.2513],\n",
       "       [-0.372 ,  0.4825],\n",
       "       [-1.3371,  0.5436],\n",
       "       [ 0.0667,  0.2685],\n",
       "       [ 1.8215, -0.3125],\n",
       "       [ 0.0667, -0.5265],\n",
       "       [-1.0739, -0.3736],\n",
       "       [-1.6004, -0.5571],\n",
       "       [-1.2494,  0.3296],\n",
       "       [-0.1965, -0.8323],\n",
       "       [-0.4598, -1.1075],\n",
       "       [ 1.1195, -1.0463],\n",
       "       [-0.8107,  0.5436],\n",
       "       [ 0.4176, -0.5571],\n",
       "       [-0.8107,  0.4213],\n",
       "       [-0.1088, -1.5355],\n",
       "       [ 0.5931,  1.2775],\n",
       "       [-0.8107, -0.3736],\n",
       "       [ 0.0667,  0.299 ],\n",
       "       [ 1.3828,  0.6048],\n",
       "       [-0.8984, -1.2298],\n",
       "       [ 1.1195,  0.4825],\n",
       "       [ 1.8215,  1.5832],\n",
       "       [-0.1965, -1.3827],\n",
       "       [-0.1088, -0.4042],\n",
       "       [-0.1965,  1.3692],\n",
       "       [ 1.9969,  0.5436],\n",
       "       [ 0.7686, -1.1686],\n",
       "       [-0.6352,  0.3908],\n",
       "       [-0.8984,  0.299 ],\n",
       "       [ 1.1195, -1.2909],\n",
       "       [-1.1617, -1.5355],\n",
       "       [-0.372 , -1.5967],\n",
       "       [ 2.0847, -0.8629],\n",
       "       [-1.5126,  0.1767],\n",
       "       [-0.0211,  0.88  ],\n",
       "       [-1.5126, -1.3521],\n",
       "       [ 2.0847,  0.3908],\n",
       "       [-1.0739,  0.5742],\n",
       "       [-0.8107, -0.3736],\n",
       "       [ 0.3299, -0.71  ],\n",
       "       [ 0.5054, -0.0067],\n",
       "       [-0.372 ,  2.4394],\n",
       "       [-0.1088,  0.2073],\n",
       "       [-1.2494, -0.2208],\n",
       "       [ 0.7686, -1.4744],\n",
       "       [-0.8107,  0.5742],\n",
       "       [-1.6004,  0.3602],\n",
       "       [ 0.5054,  0.2685],\n",
       "       [ 0.3299, -0.3125],\n",
       "       [ 1.4705, -1.1075],\n",
       "       [ 0.9441,  1.1246],\n",
       "       [ 1.9092,  2.2559],\n",
       "       [ 1.9969,  0.3908],\n",
       "       [-1.0739, -0.4654],\n",
       "       [-0.8984, -1.0769],\n",
       "       [ 1.9092, -0.9852],\n",
       "       [ 0.5054,  0.299 ],\n",
       "       [ 0.3299,  0.1462],\n",
       "       [ 1.9969,  1.8279],\n",
       "       [ 0.8563, -0.8934],\n",
       "       [ 0.4176, -0.3125],\n",
       "       [ 0.5054, -0.1902],\n",
       "       [ 0.0667,  2.3171],\n",
       "       [-1.1617, -0.6794],\n",
       "       [-0.9862, -1.1381],\n",
       "       [-1.0739,  0.4213],\n",
       "       [-0.8107,  0.7883],\n",
       "       [-1.1617, -0.2208],\n",
       "       [ 1.0318, -1.1381],\n",
       "       [ 1.0318,  0.6048],\n",
       "       [ 0.5054,  1.0329]])"
      ]
     },
     "execution_count": 7,
     "metadata": {},
     "output_type": "execute_result"
    }
   ],
   "source": [
    "sc = StandardScaler()\n",
    "train_x = sc.fit_transform(train_x)\n",
    "test_x=sc.fit_transform(test_x)\n",
    "test_x=np.around(test_x,decimals=4)\n",
    "test_x"
   ]
  },
  {
   "cell_type": "code",
   "execution_count": 13,
   "metadata": {},
   "outputs": [
    {
     "data": {
      "text/plain": [
       "SVC(C=1.0, cache_size=200, class_weight=None, coef0=0.0,\n",
       "  decision_function_shape='ovr', degree=3, gamma='auto', kernel='linear',\n",
       "  max_iter=-1, probability=False, random_state=0, shrinking=True,\n",
       "  tol=0.001, verbose=False)"
      ]
     },
     "execution_count": 13,
     "metadata": {},
     "output_type": "execute_result"
    }
   ],
   "source": [
    "cf=SVC(kernel='linear',random_state=0)\n",
    "cf.fit(train_x,train_y)"
   ]
  },
  {
   "cell_type": "code",
   "execution_count": 15,
   "metadata": {},
   "outputs": [
    {
     "data": {
      "text/plain": [
       "array([0, 0, 0, 0, 0, 0, 0, 1, 0, 0, 0, 0, 0, 0, 0, 1, 0, 0, 1, 0, 0, 1,\n",
       "       0, 1, 0, 1, 0, 0, 0, 0, 0, 0, 1, 0, 0, 0, 0, 0, 0, 1, 0, 0, 0, 0,\n",
       "       1, 0, 0, 1, 0, 1, 1, 0, 0, 1, 1, 0, 0, 0, 0, 0, 0, 1, 0, 1, 0, 1,\n",
       "       0, 0, 0, 1, 1, 0, 0, 0, 0, 0, 1, 0, 1, 1, 1, 1, 0, 0, 1, 1, 0, 1,\n",
       "       0, 0, 0, 1, 0, 0, 0, 0, 0, 0, 1, 1])"
      ]
     },
     "execution_count": 15,
     "metadata": {},
     "output_type": "execute_result"
    }
   ],
   "source": [
    "pred_y=cf.predict(test_x)\n",
    "pred_y"
   ]
  },
  {
   "cell_type": "code",
   "execution_count": 16,
   "metadata": {},
   "outputs": [
    {
     "data": {
      "text/plain": [
       "array([0, 0, 0, 0, 0, 0, 0, 1, 0, 0, 0, 0, 0, 0, 0, 0, 0, 0, 1, 0, 0, 1,\n",
       "       0, 1, 0, 1, 0, 0, 0, 0, 0, 1, 1, 0, 0, 0, 0, 0, 0, 1, 0, 0, 0, 0,\n",
       "       1, 0, 0, 1, 0, 1, 1, 0, 0, 0, 1, 1, 0, 0, 1, 0, 0, 1, 0, 1, 0, 1,\n",
       "       0, 0, 0, 0, 1, 0, 0, 1, 0, 0, 0, 0, 1, 1, 1, 0, 0, 0, 1, 1, 0, 1,\n",
       "       1, 0, 0, 1, 0, 0, 0, 1, 0, 1, 1, 1])"
      ]
     },
     "execution_count": 16,
     "metadata": {},
     "output_type": "execute_result"
    }
   ],
   "source": [
    "test_y"
   ]
  },
  {
   "cell_type": "code",
   "execution_count": 19,
   "metadata": {},
   "outputs": [
    {
     "data": {
      "text/plain": [
       "array([[63,  7],\n",
       "       [ 5, 25]])"
      ]
     },
     "execution_count": 19,
     "metadata": {},
     "output_type": "execute_result"
    }
   ],
   "source": [
    "cm=confusion_matrix(pred_y,test_y)\n",
    "cm"
   ]
  },
  {
   "cell_type": "code",
   "execution_count": 20,
   "metadata": {},
   "outputs": [
    {
     "data": {
      "text/plain": [
       "0.88"
      ]
     },
     "execution_count": 20,
     "metadata": {},
     "output_type": "execute_result"
    }
   ],
   "source": [
    "from sklearn.metrics import accuracy_score\n",
    "acc = accuracy_score(test_y,pred_y)\n",
    "acc"
   ]
  },
  {
   "cell_type": "code",
   "execution_count": 21,
   "metadata": {},
   "outputs": [
    {
     "data": {
      "image/png": "[encoded data removed]",
      "text/plain": [
       "<Figure size 432x288 with 1 Axes>"
      ]
     },
     "metadata": {},
     "output_type": "display_data"
    }
   ],
   "source": [
    "from matplotlib.colors import ListedColormap\n",
    "x,y = train_x,train_y\n",
    "x1,x2=np.meshgrid(np.arange(start= x[:,0].min() -1 , stop = x[:,0].max()+1 , step=0.01),\n",
    "                  np.arange(start= x[:,1].min() -1 , stop = x[:,1].max()+1 , step=0.01))\n",
    "plt.contourf(x1,x2,cf.predict(np.array([x1.ravel(),x2.ravel()]).T).reshape(x1.shape),\n",
    "             alpha=0.75,cmap=ListedColormap(('red','green')))\n",
    "plt.xlim(x1.min(),x1.max())\n",
    "plt.ylim(x2.min(),x2.max())\n",
    "for i,j in enumerate(y):\n",
    "    plt.scatter(x[y==j,0],x[y==j,1],\n",
    "                c=ListedColormap(('red','green'))(i),label=j)\n",
    "plt.title('LR')\n",
    "plt.xlabel('AGE')\n",
    "plt.ylabel(\"SALARY\")\n",
    "plt.show()"
   ]
  },
  {
   "cell_type": "code",
   "execution_count": 22,
   "metadata": {},
   "outputs": [
    {
     "data": {
      "image/png": "[encoded data removed]",
      "text/plain": [
       "<Figure size 432x288 with 1 Axes>"
      ]
     },
     "metadata": {},
     "output_type": "display_data"
    }
   ],
   "source": [
    "from matplotlib.colors import ListedColormap\n",
    "x,y = test_x,test_y\n",
    "x1,x2=np.meshgrid(np.arange(start= x[:,0].min() -1 , stop = x[:,0].max()+1 , step=0.01),\n",
    "                  np.arange(start= x[:,1].min() -1 , stop = x[:,1].max()+1 , step=0.01))\n",
    "plt.contourf(x1,x2,cf.predict(np.array([x1.ravel(),x2.ravel()]).T).reshape(x1.shape),\n",
    "             alpha=0.75,cmap=ListedColormap(('red','green')))\n",
    "plt.xlim(x1.min(),x1.max())\n",
    "plt.ylim(x2.min(),x2.max())\n",
    "for i,j in enumerate(y):\n",
    "    plt.scatter(x[y==j,0],x[y==j,1],\n",
    "                c=ListedColormap(('red','green'))(i),label=j)\n",
    "plt.title('LR')\n",
    "plt.xlabel('AGE')\n",
    "plt.ylabel(\"SALARY\")\n",
    "plt.show()"
   ]
  },
  {
   "cell_type": "code",
   "execution_count": null,
   "metadata": {},
   "outputs": [],
   "source": []
  }
 ],
 "metadata": {
  "kernelspec": {
   "display_name": "Python 3",
   "language": "python",
   "name": "python3"
  },
  "language_info": {
   "codemirror_mode": {
    "name": "ipython",
    "version": 3
   },
   "file_extension": ".py",
   "mimetype": "text/x-python",
   "name": "python",
   "nbconvert_exporter": "python",
   "pygments_lexer": "ipython3",
   "version": "3.7.6"
  }
 },
 "nbformat": 4,
 "nbformat_minor": 2
}
