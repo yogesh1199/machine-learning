{
 "cells": [
  {
   "cell_type": "code",
   "execution_count": 16,
   "metadata": {},
   "outputs": [],
   "source": [
    "import pandas as pd\n",
    "import numpy as np\n",
    "from sklearn.model_selection import train_test_split\n",
    "import matplotlib.pyplot as plt\n",
    "from sklearn.linear_model import LinearRegression"
   ]
  },
  {
   "cell_type": "code",
   "execution_count": 17,
   "metadata": {},
   "outputs": [],
   "source": [
    "data=pd.read_csv(\"DataSets-master/500_Person_Gender_Height_Weight_Index.csv\")"
   ]
  },
  {
   "cell_type": "code",
   "execution_count": 18,
   "metadata": {},
   "outputs": [
    {
     "data": {
      "text/html": [
       "<div>\n",
       "<style scoped>\n",
       "    .dataframe tbody tr th:only-of-type {\n",
       "        vertical-align: middle;\n",
       "    }\n",
       "\n",
       "    .dataframe tbody tr th {\n",
       "        vertical-align: top;\n",
       "    }\n",
       "\n",
       "    .dataframe thead th {\n",
       "        text-align: right;\n",
       "    }\n",
       "</style>\n",
       "<table border=\"1\" class=\"dataframe\">\n",
       "  <thead>\n",
       "    <tr style=\"text-align: right;\">\n",
       "      <th></th>\n",
       "      <th>Gender</th>\n",
       "      <th>Height</th>\n",
       "      <th>Weight</th>\n",
       "      <th>Index</th>\n",
       "    </tr>\n",
       "  </thead>\n",
       "  <tbody>\n",
       "    <tr>\n",
       "      <th>0</th>\n",
       "      <td>Male</td>\n",
       "      <td>174</td>\n",
       "      <td>96</td>\n",
       "      <td>4</td>\n",
       "    </tr>\n",
       "    <tr>\n",
       "      <th>1</th>\n",
       "      <td>Male</td>\n",
       "      <td>189</td>\n",
       "      <td>87</td>\n",
       "      <td>2</td>\n",
       "    </tr>\n",
       "    <tr>\n",
       "      <th>2</th>\n",
       "      <td>Female</td>\n",
       "      <td>185</td>\n",
       "      <td>110</td>\n",
       "      <td>4</td>\n",
       "    </tr>\n",
       "    <tr>\n",
       "      <th>3</th>\n",
       "      <td>Female</td>\n",
       "      <td>195</td>\n",
       "      <td>104</td>\n",
       "      <td>3</td>\n",
       "    </tr>\n",
       "    <tr>\n",
       "      <th>4</th>\n",
       "      <td>Male</td>\n",
       "      <td>149</td>\n",
       "      <td>61</td>\n",
       "      <td>3</td>\n",
       "    </tr>\n",
       "  </tbody>\n",
       "</table>\n",
       "</div>"
      ],
      "text/plain": [
       "   Gender  Height  Weight  Index\n",
       "0    Male     174      96      4\n",
       "1    Male     189      87      2\n",
       "2  Female     185     110      4\n",
       "3  Female     195     104      3\n",
       "4    Male     149      61      3"
      ]
     },
     "execution_count": 18,
     "metadata": {},
     "output_type": "execute_result"
    }
   ],
   "source": [
    "data.head()"
   ]
  },
  {
   "cell_type": "code",
   "execution_count": 1,
   "metadata": {},
   "outputs": [
    {
     "ename": "NameError",
     "evalue": "name 'data' is not defined",
     "output_type": "error",
     "traceback": [
      "\u001b[0;31m---------------------------------------------------------------------------\u001b[0m",
      "\u001b[0;31mNameError\u001b[0m                                 Traceback (most recent call last)",
      "\u001b[0;32m<ipython-input-1-c5d4d23f9ddb>\u001b[0m in \u001b[0;36m<module>\u001b[0;34m\u001b[0m\n\u001b[0;32m----> 1\u001b[0;31m \u001b[0mdata\u001b[0m\u001b[0;34m[\u001b[0m\u001b[0;34m'ye'\u001b[0m\u001b[0;34m]\u001b[0m\u001b[0;34m=\u001b[0m\u001b[0;36m0\u001b[0m\u001b[0;34m\u001b[0m\u001b[0;34m\u001b[0m\u001b[0m\n\u001b[0m",
      "\u001b[0;31mNameError\u001b[0m: name 'data' is not defined"
     ]
    }
   ],
   "source": []
  },
  {
   "cell_type": "code",
   "execution_count": 19,
   "metadata": {},
   "outputs": [
    {
     "data": {
      "text/html": [
       "<div>\n",
       "<style scoped>\n",
       "    .dataframe tbody tr th:only-of-type {\n",
       "        vertical-align: middle;\n",
       "    }\n",
       "\n",
       "    .dataframe tbody tr th {\n",
       "        vertical-align: top;\n",
       "    }\n",
       "\n",
       "    .dataframe thead th {\n",
       "        text-align: right;\n",
       "    }\n",
       "</style>\n",
       "<table border=\"1\" class=\"dataframe\">\n",
       "  <thead>\n",
       "    <tr style=\"text-align: right;\">\n",
       "      <th></th>\n",
       "      <th>Gender</th>\n",
       "      <th>Height</th>\n",
       "      <th>Weight</th>\n",
       "      <th>Index</th>\n",
       "    </tr>\n",
       "  </thead>\n",
       "  <tbody>\n",
       "    <tr>\n",
       "      <th>0</th>\n",
       "      <td>0</td>\n",
       "      <td>174</td>\n",
       "      <td>96</td>\n",
       "      <td>4</td>\n",
       "    </tr>\n",
       "    <tr>\n",
       "      <th>1</th>\n",
       "      <td>0</td>\n",
       "      <td>189</td>\n",
       "      <td>87</td>\n",
       "      <td>2</td>\n",
       "    </tr>\n",
       "    <tr>\n",
       "      <th>2</th>\n",
       "      <td>1</td>\n",
       "      <td>185</td>\n",
       "      <td>110</td>\n",
       "      <td>4</td>\n",
       "    </tr>\n",
       "    <tr>\n",
       "      <th>3</th>\n",
       "      <td>1</td>\n",
       "      <td>195</td>\n",
       "      <td>104</td>\n",
       "      <td>3</td>\n",
       "    </tr>\n",
       "    <tr>\n",
       "      <th>4</th>\n",
       "      <td>0</td>\n",
       "      <td>149</td>\n",
       "      <td>61</td>\n",
       "      <td>3</td>\n",
       "    </tr>\n",
       "  </tbody>\n",
       "</table>\n",
       "</div>"
      ],
      "text/plain": [
       "   Gender  Height  Weight  Index\n",
       "0       0     174      96      4\n",
       "1       0     189      87      2\n",
       "2       1     185     110      4\n",
       "3       1     195     104      3\n",
       "4       0     149      61      3"
      ]
     },
     "execution_count": 19,
     "metadata": {},
     "output_type": "execute_result"
    }
   ],
   "source": [
    "#male=0 female=1\n",
    "gender = {'Male': 0,'Female': 1} \n",
    "data.Gender = [gender[item] for item in data.Gender] \n",
    "data.head()"
   ]
  },
  {
   "cell_type": "code",
   "execution_count": 20,
   "metadata": {},
   "outputs": [
    {
     "name": "stdout",
     "output_type": "stream",
     "text": [
      "<class 'pandas.core.frame.DataFrame'>\n",
      "RangeIndex: 500 entries, 0 to 499\n",
      "Data columns (total 4 columns):\n",
      "Gender    500 non-null int64\n",
      "Height    500 non-null int64\n",
      "Weight    500 non-null int64\n",
      "Index     500 non-null int64\n",
      "dtypes: int64(4)\n",
      "memory usage: 15.7 KB\n"
     ]
    }
   ],
   "source": [
    "data.info()"
   ]
  },
  {
   "cell_type": "code",
   "execution_count": 21,
   "metadata": {
    "scrolled": false
   },
   "outputs": [],
   "source": [
    "inp=data.iloc[:,0:3].values\n",
    "out=data.iloc[:,3].values"
   ]
  },
  {
   "cell_type": "code",
   "execution_count": 22,
   "metadata": {},
   "outputs": [],
   "source": [
    "train_x,test_x,train_y,test_y=train_test_split(inp,out,test_size=0.3,random_state=0)"
   ]
  },
  {
   "cell_type": "code",
   "execution_count": 23,
   "metadata": {},
   "outputs": [
    {
     "data": {
      "text/plain": [
       "LinearRegression(copy_X=True, fit_intercept=True, n_jobs=1, normalize=False)"
      ]
     },
     "execution_count": 23,
     "metadata": {},
     "output_type": "execute_result"
    }
   ],
   "source": [
    "cf=LinearRegression()\n",
    "cf.fit(train_x,train_y)"
   ]
  },
  {
   "cell_type": "code",
   "execution_count": 24,
   "metadata": {},
   "outputs": [],
   "source": [
    "pred_op=cf.predict(test_x)"
   ]
  },
  {
   "cell_type": "code",
   "execution_count": 27,
   "metadata": {},
   "outputs": [
    {
     "data": {
      "text/plain": [
       "array([[  1, 178, 154],\n",
       "       [  0, 183, 147],\n",
       "       [  0, 166, 107],\n",
       "       [  0, 159, 140],\n",
       "       [  0, 152, 132],\n",
       "       [  1, 153, 107],\n",
       "       [  0, 188,  99],\n",
       "       [  1, 179, 150],\n",
       "       [  0, 181, 105],\n",
       "       [  1, 168, 140],\n",
       "       [  0, 166,  61],\n",
       "       [  0, 153,  70],\n",
       "       [  1, 167,  58],\n",
       "       [  0, 149, 100],\n",
       "       [  0, 174, 138],\n",
       "       [  1, 185, 102],\n",
       "       [  0, 161, 115],\n",
       "       [  0, 174,  90],\n",
       "       [  1, 155, 111],\n",
       "       [  0, 144,  80],\n",
       "       [  1, 150,  87],\n",
       "       [  1, 185,  94],\n",
       "       [  0, 178,  85],\n",
       "       [  1, 181, 106],\n",
       "       [  0, 185,  76],\n",
       "       [  0, 188,  65],\n",
       "       [  1, 153, 149],\n",
       "       [  1, 186, 127],\n",
       "       [  0, 142,  69],\n",
       "       [  1, 177,  81],\n",
       "       [  1, 153,  77],\n",
       "       [  0, 144, 108],\n",
       "       [  1, 158, 149],\n",
       "       [  0, 154, 100],\n",
       "       [  0, 174,  95],\n",
       "       [  1, 198,  50],\n",
       "       [  1, 180, 156],\n",
       "       [  1, 172,  90],\n",
       "       [  0, 184, 153],\n",
       "       [  1, 174,  65],\n",
       "       [  0, 153, 104],\n",
       "       [  1, 188, 122],\n",
       "       [  0, 169, 110],\n",
       "       [  0, 183, 138],\n",
       "       [  0, 165, 104],\n",
       "       [  0, 189,  87],\n",
       "       [  1, 196, 159],\n",
       "       [  1, 148,  54],\n",
       "       [  0, 162, 130],\n",
       "       [  0, 161, 155],\n",
       "       [  1, 195, 147],\n",
       "       [  0, 187, 136],\n",
       "       [  0, 179,  83],\n",
       "       [  0, 140,  79],\n",
       "       [  1, 158, 153],\n",
       "       [  1, 192, 101],\n",
       "       [  1, 167,  85],\n",
       "       [  1, 196, 131],\n",
       "       [  0, 188,  54],\n",
       "       [  1, 154,  92],\n",
       "       [  1, 176, 122],\n",
       "       [  1, 179, 114],\n",
       "       [  1, 160,  83],\n",
       "       [  1, 180,  59],\n",
       "       [  0, 182, 108],\n",
       "       [  0, 157,  74],\n",
       "       [  0, 195,  81],\n",
       "       [  0, 198, 109],\n",
       "       [  0, 152, 103],\n",
       "       [  1, 197, 154],\n",
       "       [  0, 180, 149],\n",
       "       [  1, 179, 158],\n",
       "       [  1, 155,  71],\n",
       "       [  1, 188, 115],\n",
       "       [  1, 185, 119],\n",
       "       [  1, 151, 158],\n",
       "       [  0, 147,  84],\n",
       "       [  0, 199, 156],\n",
       "       [  1, 146, 147],\n",
       "       [  0, 160, 156],\n",
       "       [  1, 186, 140],\n",
       "       [  0, 170,  81],\n",
       "       [  0, 183, 131],\n",
       "       [  0, 159, 109],\n",
       "       [  1, 164, 160],\n",
       "       [  1, 199,  92],\n",
       "       [  0, 140, 146],\n",
       "       [  0, 168, 160],\n",
       "       [  0, 178, 138],\n",
       "       [  0, 196, 116],\n",
       "       [  1, 173,  82],\n",
       "       [  0, 182,  70],\n",
       "       [  0, 176,  87],\n",
       "       [  0, 184,  57],\n",
       "       [  0, 188, 100],\n",
       "       [  0, 185,  60],\n",
       "       [  0, 172,  92],\n",
       "       [  1, 172, 116],\n",
       "       [  1, 191,  54],\n",
       "       [  0, 191,  96],\n",
       "       [  0, 159, 154],\n",
       "       [  1, 167, 153],\n",
       "       [  0, 178, 117],\n",
       "       [  1, 167,  79],\n",
       "       [  0, 147,  92],\n",
       "       [  0, 181, 154],\n",
       "       [  1, 192,  90],\n",
       "       [  0, 181, 141],\n",
       "       [  0, 151,  82],\n",
       "       [  1, 179, 103],\n",
       "       [  1, 187, 121],\n",
       "       [  0, 154, 111],\n",
       "       [  0, 194, 108],\n",
       "       [  0, 174,  90],\n",
       "       [  1, 145, 141],\n",
       "       [  1, 150,  97],\n",
       "       [  1, 150, 144],\n",
       "       [  1, 192, 139],\n",
       "       [  1, 150,  84],\n",
       "       [  1, 161, 134],\n",
       "       [  1, 178,  79],\n",
       "       [  0, 140, 152],\n",
       "       [  1, 171, 155],\n",
       "       [  0, 141,  80],\n",
       "       [  1, 161, 154],\n",
       "       [  1, 146, 110],\n",
       "       [  0, 143,  88],\n",
       "       [  0, 186,  68],\n",
       "       [  1, 180,  70],\n",
       "       [  1, 177, 101],\n",
       "       [  0, 173, 111],\n",
       "       [  0, 179, 130],\n",
       "       [  1, 140,  76],\n",
       "       [  1, 187,  89],\n",
       "       [  1, 165,  83],\n",
       "       [  1, 164,  59],\n",
       "       [  0, 154,  81],\n",
       "       [  1, 175,  83],\n",
       "       [  0, 182,  50],\n",
       "       [  1, 167, 135],\n",
       "       [  0, 141,  94],\n",
       "       [  0, 163, 110],\n",
       "       [  1, 185, 100],\n",
       "       [  0, 190,  95],\n",
       "       [  0, 198, 136],\n",
       "       [  0, 149,  61],\n",
       "       [  0, 170,  95],\n",
       "       [  0, 142,  71],\n",
       "       [  0, 151, 114],\n",
       "       [  0, 189, 104]])"
      ]
     },
     "execution_count": 27,
     "metadata": {},
     "output_type": "execute_result"
    }
   ],
   "source": [
    "test_x"
   ]
  },
  {
   "cell_type": "code",
   "execution_count": 28,
   "metadata": {},
   "outputs": [
    {
     "data": {
      "text/plain": [
       "array([5, 5, 4, 5, 5, 5, 3, 5, 4, 5, 2, 3, 2, 5, 5, 3, 5, 3, 5, 4, 4, 3,\n",
       "       3, 4, 2, 1, 5, 4, 4, 3, 4, 5, 5, 5, 4, 0, 5, 4, 5, 2, 5, 4, 4, 5,\n",
       "       4, 2, 5, 2, 5, 5, 4, 4, 3, 5, 5, 3, 4, 4, 0, 4, 4, 4, 4, 1, 4, 4,\n",
       "       2, 3, 5, 4, 5, 5, 3, 4, 4, 5, 4, 4, 5, 5, 5, 3, 4, 5, 5, 2, 5, 5,\n",
       "       5, 4, 2, 2, 3, 1, 3, 1, 4, 4, 0, 3, 5, 5, 4, 3, 5, 5, 2, 5, 4, 4,\n",
       "       4, 5, 3, 3, 5, 5, 5, 4, 4, 5, 2, 5, 5, 5, 5, 5, 5, 2, 2, 4, 4, 5,\n",
       "       4, 3, 4, 2, 4, 2, 0, 5, 5, 5, 3, 3, 4, 3, 4, 4, 5, 3])"
      ]
     },
     "execution_count": 28,
     "metadata": {},
     "output_type": "execute_result"
    }
   ],
   "source": [
    "test_y"
   ]
  },
  {
   "cell_type": "code",
   "execution_count": 30,
   "metadata": {},
   "outputs": [
    {
     "data": {
      "text/plain": [
       "array([  0, 183, 147])"
      ]
     },
     "execution_count": 30,
     "metadata": {},
     "output_type": "execute_result"
    }
   ],
   "source": [
    "test_x[1]"
   ]
  },
  {
   "cell_type": "code",
   "execution_count": 31,
   "metadata": {},
   "outputs": [
    {
     "data": {
      "text/plain": [
       "5"
      ]
     },
     "execution_count": 31,
     "metadata": {},
     "output_type": "execute_result"
    }
   ],
   "source": [
    "test_y[1]"
   ]
  },
  {
   "cell_type": "code",
   "execution_count": 32,
   "metadata": {},
   "outputs": [
    {
     "data": {
      "text/plain": [
       "4.678212929677489"
      ]
     },
     "execution_count": 32,
     "metadata": {},
     "output_type": "execute_result"
    }
   ],
   "source": [
    "pred_op[1]"
   ]
  },
  {
   "cell_type": "code",
   "execution_count": null,
   "metadata": {},
   "outputs": [],
   "source": []
  },
  {
   "cell_type": "code",
   "execution_count": null,
   "metadata": {},
   "outputs": [],
   "source": []
  }
 ],
 "metadata": {
  "kernelspec": {
   "display_name": "Python 3",
   "language": "python",
   "name": "python3"
  },
  "language_info": {
   "codemirror_mode": {
    "name": "ipython",
    "version": 3
   },
   "file_extension": ".py",
   "mimetype": "text/x-python",
   "name": "python",
   "nbconvert_exporter": "python",
   "pygments_lexer": "ipython3",
   "version": "3.7.6"
  }
 },
 "nbformat": 4,
 "nbformat_minor": 2
}
